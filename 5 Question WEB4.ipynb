{
 "cells": [
  {
   "cell_type": "markdown",
   "metadata": {},
   "source": [
    "## 5.  Scrape the details of trending repositories on Github.com"
   ]
  },
  {
   "cell_type": "code",
   "execution_count": 1,
   "metadata": {},
   "outputs": [],
   "source": [
    "import pandas as pd\n",
    "from bs4 import BeautifulSoup\n",
    "import requests\n",
    "import selenium\n",
    "from selenium import webdriver\n",
    "import time"
   ]
  },
  {
   "cell_type": "code",
   "execution_count": 2,
   "metadata": {},
   "outputs": [],
   "source": [
    "driver=webdriver.Chrome(\"chromedriver.exe\")"
   ]
  },
  {
   "cell_type": "code",
   "execution_count": 3,
   "metadata": {},
   "outputs": [],
   "source": [
    "driver.get(\"https://github.com/\")"
   ]
  },
  {
   "cell_type": "code",
   "execution_count": 4,
   "metadata": {},
   "outputs": [],
   "source": [
    "search_btn=driver.find_element_by_xpath(\"/html/body/div[1]/header/div/div[2]/nav/ul/li[4]/details/summary\")\n",
    "search_btn.click()"
   ]
  },
  {
   "cell_type": "code",
   "execution_count": 5,
   "metadata": {},
   "outputs": [],
   "source": [
    "search_btn1=driver.find_element_by_xpath(\"/html/body/div[1]/header/div/div[2]/nav/ul/li[4]/details/div/ul[1]/li/a\")\n",
    "search_btn1.click()"
   ]
  },
  {
   "cell_type": "code",
   "execution_count": 6,
   "metadata": {},
   "outputs": [],
   "source": [
    "search_btn2=driver.find_element_by_xpath(\"/html/body/div[4]/main/div[1]/nav/div/a[3]\")\n",
    "search_btn2.click()"
   ]
  },
  {
   "cell_type": "code",
   "execution_count": 7,
   "metadata": {},
   "outputs": [],
   "source": [
    "url=\"https://github.com/trending\""
   ]
  },
  {
   "cell_type": "code",
   "execution_count": 8,
   "metadata": {},
   "outputs": [],
   "source": [
    "driver.get(url)"
   ]
  },
  {
   "cell_type": "code",
   "execution_count": 11,
   "metadata": {},
   "outputs": [],
   "source": [
    "res_tit1=[]\n",
    "res_desc=[]\n",
    "count=[]\n",
    "lan=[]"
   ]
  },
  {
   "cell_type": "code",
   "execution_count": 12,
   "metadata": {},
   "outputs": [
    {
     "data": {
      "text/plain": [
       "['PaddlePaddle /', 'tone-row /', 'tostercx /', 'athensresearch /', 'aws /']"
      ]
     },
     "execution_count": 12,
     "metadata": {},
     "output_type": "execute_result"
    }
   ],
   "source": [
    "titles_tag=driver.find_elements_by_xpath(\"//span[@class='text-normal']\")\n",
    "for i in titles_tag:\n",
    "    res_tit1.append(i.text)\n",
    "res_tit1[0:5]"
   ]
  },
  {
   "cell_type": "code",
   "execution_count": 23,
   "metadata": {},
   "outputs": [
    {
     "data": {
      "text/plain": [
       "['PaddlePaddle GAN library, including lots of interesting applications like DeepFake First-Order motion transfer, Mai-ha-hi（蚂蚁呀嘿), faceswap wav2lip, picture repair, image editing, photo2cartoon, image style transfer, and so on.',\n",
       " 'A small app for making quick flowcharts from text ⿻',\n",
       " 'Desktop app links: https://tinyurl.com/athens-mac, https://tinyurl.com/athens-windows, https://tinyurl.com/athens-linux; paid tiers available through https://opencollective.com/athens; try the demo at https://athensresearch.github.io/athens',\n",
       " 'AWS SDK for the Go programming language.',\n",
       " 'Firebase iOS SDK']"
      ]
     },
     "execution_count": 23,
     "metadata": {},
     "output_type": "execute_result"
    }
   ],
   "source": [
    "titles_tag1=driver.find_elements_by_xpath(\"/html/body/div[4]/main/div[3]/div/div[2]/article/p\")\n",
    "for i in titles_tag1:\n",
    "    res_desc.append(i.text)\n",
    "res_desc[0:5]"
   ]
  },
  {
   "cell_type": "code",
   "execution_count": 15,
   "metadata": {},
   "outputs": [
    {
     "data": {
      "text/plain": [
       "['222', '25', '79', '175', '1,636']"
      ]
     },
     "execution_count": 15,
     "metadata": {},
     "output_type": "execute_result"
    }
   ],
   "source": [
    "titles_tag2=driver.find_elements_by_xpath(\"/html/body/div[4]/main/div[3]/div/div[2]/article/div[2]/a[2]\")\n",
    "for i in titles_tag2:\n",
    "    count.append(i.text)\n",
    "count[0:5]"
   ]
  },
  {
   "cell_type": "code",
   "execution_count": 16,
   "metadata": {},
   "outputs": [
    {
     "data": {
      "text/plain": [
       "['Python', 'TypeScript', 'C', 'Clojure', 'Go']"
      ]
     },
     "execution_count": 16,
     "metadata": {},
     "output_type": "execute_result"
    }
   ],
   "source": [
    "titles_tag3=driver.find_elements_by_xpath(\"/html/body/div[4]/main/div[3]/div/div[2]/article/div[2]/span[1]/span[2]\")\n",
    "for i in titles_tag3:\n",
    "    lan.append(i.text)\n",
    "lan[0:5]"
   ]
  },
  {
   "cell_type": "code",
   "execution_count": 21,
   "metadata": {},
   "outputs": [],
   "source": [
    "import pandas as pd\n",
    "Github=pd.DataFrame()\n",
    "Github['Repository_title']=res_tit1[0:20]\n",
    "Github['Repository_description']=res_desc[0:20]\n",
    "Github['Contributors_count']=count[0:20]\n",
    "Github['Language_used']=lan[0:20]"
   ]
  },
  {
   "cell_type": "code",
   "execution_count": 22,
   "metadata": {},
   "outputs": [
    {
     "data": {
      "text/html": [
       "<div>\n",
       "<style scoped>\n",
       "    .dataframe tbody tr th:only-of-type {\n",
       "        vertical-align: middle;\n",
       "    }\n",
       "\n",
       "    .dataframe tbody tr th {\n",
       "        vertical-align: top;\n",
       "    }\n",
       "\n",
       "    .dataframe thead th {\n",
       "        text-align: right;\n",
       "    }\n",
       "</style>\n",
       "<table border=\"1\" class=\"dataframe\">\n",
       "  <thead>\n",
       "    <tr style=\"text-align: right;\">\n",
       "      <th></th>\n",
       "      <th>Repository_title</th>\n",
       "      <th>Repository_description</th>\n",
       "      <th>Contributors_count</th>\n",
       "      <th>Language_used</th>\n",
       "    </tr>\n",
       "  </thead>\n",
       "  <tbody>\n",
       "    <tr>\n",
       "      <th>0</th>\n",
       "      <td>PaddlePaddle /</td>\n",
       "      <td>PaddlePaddle GAN library, including lots of in...</td>\n",
       "      <td>222</td>\n",
       "      <td>Python</td>\n",
       "    </tr>\n",
       "    <tr>\n",
       "      <th>1</th>\n",
       "      <td>tone-row /</td>\n",
       "      <td>A small app for making quick flowcharts from t...</td>\n",
       "      <td>25</td>\n",
       "      <td>TypeScript</td>\n",
       "    </tr>\n",
       "    <tr>\n",
       "      <th>2</th>\n",
       "      <td>tostercx /</td>\n",
       "      <td>Desktop app links: https://tinyurl.com/athens-...</td>\n",
       "      <td>79</td>\n",
       "      <td>C</td>\n",
       "    </tr>\n",
       "    <tr>\n",
       "      <th>3</th>\n",
       "      <td>athensresearch /</td>\n",
       "      <td>AWS SDK for the Go programming language.</td>\n",
       "      <td>175</td>\n",
       "      <td>Clojure</td>\n",
       "    </tr>\n",
       "    <tr>\n",
       "      <th>4</th>\n",
       "      <td>aws /</td>\n",
       "      <td>Firebase iOS SDK</td>\n",
       "      <td>1,636</td>\n",
       "      <td>Go</td>\n",
       "    </tr>\n",
       "    <tr>\n",
       "      <th>5</th>\n",
       "      <td>firebase /</td>\n",
       "      <td>A fully customizable iOS calendar library, com...</td>\n",
       "      <td>749</td>\n",
       "      <td>Objective-C</td>\n",
       "    </tr>\n",
       "    <tr>\n",
       "      <th>6</th>\n",
       "      <td>WenchaoD /</td>\n",
       "      <td>OpenCore bootloader</td>\n",
       "      <td>1,698</td>\n",
       "      <td>Objective-C</td>\n",
       "    </tr>\n",
       "    <tr>\n",
       "      <th>7</th>\n",
       "      <td>acidanthera /</td>\n",
       "      <td>An updated version of the classic \"Basic Compu...</td>\n",
       "      <td>1,117</td>\n",
       "      <td>C</td>\n",
       "    </tr>\n",
       "    <tr>\n",
       "      <th>8</th>\n",
       "      <td>coding-horror /</td>\n",
       "      <td>Matrix (An open network for secure, decentrali...</td>\n",
       "      <td>174</td>\n",
       "      <td>VBA</td>\n",
       "    </tr>\n",
       "    <tr>\n",
       "      <th>9</th>\n",
       "      <td>spantaleev /</td>\n",
       "      <td>DeepFaceLab is the leading software for creati...</td>\n",
       "      <td>394</td>\n",
       "      <td>HTML</td>\n",
       "    </tr>\n",
       "    <tr>\n",
       "      <th>10</th>\n",
       "      <td>iperov /</td>\n",
       "      <td>🔥 Continuous Profiling Platform 🔥 Debug perfor...</td>\n",
       "      <td>5,507</td>\n",
       "      <td>Python</td>\n",
       "    </tr>\n",
       "    <tr>\n",
       "      <th>11</th>\n",
       "      <td>pyroscope-io /</td>\n",
       "      <td>Virtual whiteboard for sketching hand-drawn li...</td>\n",
       "      <td>70</td>\n",
       "      <td>Go</td>\n",
       "    </tr>\n",
       "    <tr>\n",
       "      <th>12</th>\n",
       "      <td>excalidraw /</td>\n",
       "      <td>Tools to set up a quick macOS VM in QEMU, acce...</td>\n",
       "      <td>1,190</td>\n",
       "      <td>TypeScript</td>\n",
       "    </tr>\n",
       "    <tr>\n",
       "      <th>13</th>\n",
       "      <td>foxlet /</td>\n",
       "      <td>24 Lessons, 12 Weeks, Get Started as a Web Dev...</td>\n",
       "      <td>781</td>\n",
       "      <td>Shell</td>\n",
       "    </tr>\n",
       "    <tr>\n",
       "      <th>14</th>\n",
       "      <td>microsoft /</td>\n",
       "      <td>优化版本的京东茅台抢购神器</td>\n",
       "      <td>2,810</td>\n",
       "      <td>JavaScript</td>\n",
       "    </tr>\n",
       "    <tr>\n",
       "      <th>15</th>\n",
       "      <td>muguruzawang /</td>\n",
       "      <td>Googletest - Google Testing and Mocking Framework</td>\n",
       "      <td>4,200</td>\n",
       "      <td>Python</td>\n",
       "    </tr>\n",
       "    <tr>\n",
       "      <th>16</th>\n",
       "      <td>google /</td>\n",
       "      <td>🕸 No-bullshit answers to the famous h5bp \"Fron...</td>\n",
       "      <td>7,249</td>\n",
       "      <td>C++</td>\n",
       "    </tr>\n",
       "    <tr>\n",
       "      <th>17</th>\n",
       "      <td>yangshun /</td>\n",
       "      <td>StudioGAN is a Pytorch library providing imple...</td>\n",
       "      <td>4,013</td>\n",
       "      <td>JavaScript</td>\n",
       "    </tr>\n",
       "    <tr>\n",
       "      <th>18</th>\n",
       "      <td>POSTECH-CVLab /</td>\n",
       "      <td>The elegant TALL stack admin for Laravel artis...</td>\n",
       "      <td>91</td>\n",
       "      <td>Python</td>\n",
       "    </tr>\n",
       "    <tr>\n",
       "      <th>19</th>\n",
       "      <td>laravel-filament /</td>\n",
       "      <td>Ghidra is a software reverse engineering (SRE)...</td>\n",
       "      <td>31</td>\n",
       "      <td>PHP</td>\n",
       "    </tr>\n",
       "  </tbody>\n",
       "</table>\n",
       "</div>"
      ],
      "text/plain": [
       "      Repository_title                             Repository_description  \\\n",
       "0       PaddlePaddle /  PaddlePaddle GAN library, including lots of in...   \n",
       "1           tone-row /  A small app for making quick flowcharts from t...   \n",
       "2           tostercx /  Desktop app links: https://tinyurl.com/athens-...   \n",
       "3     athensresearch /           AWS SDK for the Go programming language.   \n",
       "4                aws /                                   Firebase iOS SDK   \n",
       "5           firebase /  A fully customizable iOS calendar library, com...   \n",
       "6           WenchaoD /                                OpenCore bootloader   \n",
       "7        acidanthera /  An updated version of the classic \"Basic Compu...   \n",
       "8      coding-horror /  Matrix (An open network for secure, decentrali...   \n",
       "9         spantaleev /  DeepFaceLab is the leading software for creati...   \n",
       "10            iperov /  🔥 Continuous Profiling Platform 🔥 Debug perfor...   \n",
       "11      pyroscope-io /  Virtual whiteboard for sketching hand-drawn li...   \n",
       "12        excalidraw /  Tools to set up a quick macOS VM in QEMU, acce...   \n",
       "13            foxlet /  24 Lessons, 12 Weeks, Get Started as a Web Dev...   \n",
       "14         microsoft /                                      优化版本的京东茅台抢购神器   \n",
       "15      muguruzawang /  Googletest - Google Testing and Mocking Framework   \n",
       "16            google /  🕸 No-bullshit answers to the famous h5bp \"Fron...   \n",
       "17          yangshun /  StudioGAN is a Pytorch library providing imple...   \n",
       "18     POSTECH-CVLab /  The elegant TALL stack admin for Laravel artis...   \n",
       "19  laravel-filament /  Ghidra is a software reverse engineering (SRE)...   \n",
       "\n",
       "   Contributors_count Language_used  \n",
       "0                 222        Python  \n",
       "1                  25    TypeScript  \n",
       "2                  79             C  \n",
       "3                 175       Clojure  \n",
       "4               1,636            Go  \n",
       "5                 749   Objective-C  \n",
       "6               1,698   Objective-C  \n",
       "7               1,117             C  \n",
       "8                 174           VBA  \n",
       "9                 394          HTML  \n",
       "10              5,507        Python  \n",
       "11                 70            Go  \n",
       "12              1,190    TypeScript  \n",
       "13                781         Shell  \n",
       "14              2,810    JavaScript  \n",
       "15              4,200        Python  \n",
       "16              7,249           C++  \n",
       "17              4,013    JavaScript  \n",
       "18                 91        Python  \n",
       "19                 31           PHP  "
      ]
     },
     "execution_count": 22,
     "metadata": {},
     "output_type": "execute_result"
    }
   ],
   "source": [
    "Github"
   ]
  },
  {
   "cell_type": "code",
   "execution_count": null,
   "metadata": {},
   "outputs": [],
   "source": []
  },
  {
   "cell_type": "code",
   "execution_count": null,
   "metadata": {},
   "outputs": [],
   "source": []
  }
 ],
 "metadata": {
  "kernelspec": {
   "display_name": "Python 3",
   "language": "python",
   "name": "python3"
  },
  "language_info": {
   "codemirror_mode": {
    "name": "ipython",
    "version": 3
   },
   "file_extension": ".py",
   "mimetype": "text/x-python",
   "name": "python",
   "nbconvert_exporter": "python",
   "pygments_lexer": "ipython3",
   "version": "3.7.6"
  }
 },
 "nbformat": 4,
 "nbformat_minor": 4
}
